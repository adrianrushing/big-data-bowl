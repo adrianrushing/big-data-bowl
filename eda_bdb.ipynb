{
 "cells": [
  {
   "cell_type": "code",
   "execution_count": 2,
   "id": "9045859b",
   "metadata": {},
   "outputs": [],
   "source": [
    "import polars as pl\n",
    "from pathlib import Path\n",
    "\n",
    "data_path = Path(\"data\")\n",
    "\n",
    "train_data_in = data_path / \"train\" / \"input*\"\n",
    "train_data_out = data_path / \"train\" / \"output*\"\n",
    "\n",
    "before_lf = pl.scan_csv(train_data_in).filter((pl.col(\"game_id\") == 2023090700) & (pl.col(\"play_id\")== 101))\n",
    "\n",
    "after_lf = pl.scan_csv(train_data_out).filter((pl.col(\"game_id\") == 2023090700) & (pl.col(\"play_id\")== 101))\n",
    "\n",
    "before = before_lf.collect()\n",
    "after = after_lf.collect()\n"
   ]
  },
  {
   "cell_type": "code",
   "execution_count": 3,
   "id": "96f97317",
   "metadata": {},
   "outputs": [
    {
     "data": {
      "text/html": [
       "<div><style>\n",
       ".dataframe > thead > tr,\n",
       ".dataframe > tbody > tr {\n",
       "  text-align: right;\n",
       "  white-space: pre-wrap;\n",
       "}\n",
       "</style>\n",
       "<small>shape: (234, 23)</small><table border=\"1\" class=\"dataframe\"><thead><tr><th>game_id</th><th>play_id</th><th>player_to_predict</th><th>nfl_id</th><th>frame_id</th><th>play_direction</th><th>absolute_yardline_number</th><th>player_name</th><th>player_height</th><th>player_weight</th><th>player_birth_date</th><th>player_position</th><th>player_side</th><th>player_role</th><th>x</th><th>y</th><th>s</th><th>a</th><th>dir</th><th>o</th><th>num_frames_output</th><th>ball_land_x</th><th>ball_land_y</th></tr><tr><td>i64</td><td>i64</td><td>bool</td><td>i64</td><td>i64</td><td>str</td><td>i64</td><td>str</td><td>str</td><td>i64</td><td>str</td><td>str</td><td>str</td><td>str</td><td>f64</td><td>f64</td><td>f64</td><td>f64</td><td>f64</td><td>f64</td><td>i64</td><td>f64</td><td>f64</td></tr></thead><tbody><tr><td>2023090700</td><td>101</td><td>false</td><td>54527</td><td>1</td><td>&quot;right&quot;</td><td>42</td><td>&quot;Bryan Cook&quot;</td><td>&quot;6-1&quot;</td><td>210</td><td>&quot;1999-09-07&quot;</td><td>&quot;FS&quot;</td><td>&quot;Defense&quot;</td><td>&quot;Defensive Coverage&quot;</td><td>52.33</td><td>36.94</td><td>0.09</td><td>0.39</td><td>322.4</td><td>238.24</td><td>21</td><td>63.259998</td><td>-0.22</td></tr><tr><td>2023090700</td><td>101</td><td>false</td><td>54527</td><td>2</td><td>&quot;right&quot;</td><td>42</td><td>&quot;Bryan Cook&quot;</td><td>&quot;6-1&quot;</td><td>210</td><td>&quot;1999-09-07&quot;</td><td>&quot;FS&quot;</td><td>&quot;Defense&quot;</td><td>&quot;Defensive Coverage&quot;</td><td>52.33</td><td>36.94</td><td>0.04</td><td>0.61</td><td>200.89</td><td>236.05</td><td>21</td><td>63.259998</td><td>-0.22</td></tr><tr><td>2023090700</td><td>101</td><td>false</td><td>54527</td><td>3</td><td>&quot;right&quot;</td><td>42</td><td>&quot;Bryan Cook&quot;</td><td>&quot;6-1&quot;</td><td>210</td><td>&quot;1999-09-07&quot;</td><td>&quot;FS&quot;</td><td>&quot;Defense&quot;</td><td>&quot;Defensive Coverage&quot;</td><td>52.33</td><td>36.93</td><td>0.12</td><td>0.73</td><td>147.55</td><td>240.6</td><td>21</td><td>63.259998</td><td>-0.22</td></tr><tr><td>2023090700</td><td>101</td><td>false</td><td>54527</td><td>4</td><td>&quot;right&quot;</td><td>42</td><td>&quot;Bryan Cook&quot;</td><td>&quot;6-1&quot;</td><td>210</td><td>&quot;1999-09-07&quot;</td><td>&quot;FS&quot;</td><td>&quot;Defense&quot;</td><td>&quot;Defensive Coverage&quot;</td><td>52.35</td><td>36.92</td><td>0.23</td><td>0.81</td><td>131.4</td><td>244.25</td><td>21</td><td>63.259998</td><td>-0.22</td></tr><tr><td>2023090700</td><td>101</td><td>false</td><td>54527</td><td>5</td><td>&quot;right&quot;</td><td>42</td><td>&quot;Bryan Cook&quot;</td><td>&quot;6-1&quot;</td><td>210</td><td>&quot;1999-09-07&quot;</td><td>&quot;FS&quot;</td><td>&quot;Defense&quot;</td><td>&quot;Defensive Coverage&quot;</td><td>52.37</td><td>36.9</td><td>0.35</td><td>0.82</td><td>123.26</td><td>244.25</td><td>21</td><td>63.259998</td><td>-0.22</td></tr><tr><td>&hellip;</td><td>&hellip;</td><td>&hellip;</td><td>&hellip;</td><td>&hellip;</td><td>&hellip;</td><td>&hellip;</td><td>&hellip;</td><td>&hellip;</td><td>&hellip;</td><td>&hellip;</td><td>&hellip;</td><td>&hellip;</td><td>&hellip;</td><td>&hellip;</td><td>&hellip;</td><td>&hellip;</td><td>&hellip;</td><td>&hellip;</td><td>&hellip;</td><td>&hellip;</td><td>&hellip;</td><td>&hellip;</td></tr><tr><td>2023090700</td><td>101</td><td>true</td><td>44930</td><td>22</td><td>&quot;right&quot;</td><td>42</td><td>&quot;Josh Reynolds&quot;</td><td>&quot;6-3&quot;</td><td>196</td><td>&quot;1995-02-16&quot;</td><td>&quot;WR&quot;</td><td>&quot;Offense&quot;</td><td>&quot;Targeted Receiver&quot;</td><td>49.34</td><td>14.37</td><td>7.54</td><td>2.67</td><td>89.24</td><td>98.27</td><td>21</td><td>63.259998</td><td>-0.22</td></tr><tr><td>2023090700</td><td>101</td><td>true</td><td>44930</td><td>23</td><td>&quot;right&quot;</td><td>42</td><td>&quot;Josh Reynolds&quot;</td><td>&quot;6-3&quot;</td><td>196</td><td>&quot;1995-02-16&quot;</td><td>&quot;WR&quot;</td><td>&quot;Offense&quot;</td><td>&quot;Targeted Receiver&quot;</td><td>50.1</td><td>14.36</td><td>7.63</td><td>2.75</td><td>91.73</td><td>102.82</td><td>21</td><td>63.259998</td><td>-0.22</td></tr><tr><td>2023090700</td><td>101</td><td>true</td><td>44930</td><td>24</td><td>&quot;right&quot;</td><td>42</td><td>&quot;Josh Reynolds&quot;</td><td>&quot;6-3&quot;</td><td>196</td><td>&quot;1995-02-16&quot;</td><td>&quot;WR&quot;</td><td>&quot;Offense&quot;</td><td>&quot;Targeted Receiver&quot;</td><td>50.87</td><td>14.32</td><td>7.73</td><td>2.62</td><td>94.02</td><td>104.15</td><td>21</td><td>63.259998</td><td>-0.22</td></tr><tr><td>2023090700</td><td>101</td><td>true</td><td>44930</td><td>25</td><td>&quot;right&quot;</td><td>42</td><td>&quot;Josh Reynolds&quot;</td><td>&quot;6-3&quot;</td><td>196</td><td>&quot;1995-02-16&quot;</td><td>&quot;WR&quot;</td><td>&quot;Offense&quot;</td><td>&quot;Targeted Receiver&quot;</td><td>51.65</td><td>14.25</td><td>7.86</td><td>2.74</td><td>96.68</td><td>101.98</td><td>21</td><td>63.259998</td><td>-0.22</td></tr><tr><td>2023090700</td><td>101</td><td>true</td><td>44930</td><td>26</td><td>&quot;right&quot;</td><td>42</td><td>&quot;Josh Reynolds&quot;</td><td>&quot;6-3&quot;</td><td>196</td><td>&quot;1995-02-16&quot;</td><td>&quot;WR&quot;</td><td>&quot;Offense&quot;</td><td>&quot;Targeted Receiver&quot;</td><td>52.43</td><td>14.14</td><td>7.9</td><td>2.68</td><td>99.25</td><td>106.8</td><td>21</td><td>63.259998</td><td>-0.22</td></tr></tbody></table></div>"
      ],
      "text/plain": [
       "shape: (234, 23)\n",
       "┌────────────┬─────────┬─────────────┬────────┬───┬────────┬─────────────┬────────────┬────────────┐\n",
       "│ game_id    ┆ play_id ┆ player_to_p ┆ nfl_id ┆ … ┆ o      ┆ num_frames_ ┆ ball_land_ ┆ ball_land_ │\n",
       "│ ---        ┆ ---     ┆ redict      ┆ ---    ┆   ┆ ---    ┆ output      ┆ x          ┆ y          │\n",
       "│ i64        ┆ i64     ┆ ---         ┆ i64    ┆   ┆ f64    ┆ ---         ┆ ---        ┆ ---        │\n",
       "│            ┆         ┆ bool        ┆        ┆   ┆        ┆ i64         ┆ f64        ┆ f64        │\n",
       "╞════════════╪═════════╪═════════════╪════════╪═══╪════════╪═════════════╪════════════╪════════════╡\n",
       "│ 2023090700 ┆ 101     ┆ false       ┆ 54527  ┆ … ┆ 238.24 ┆ 21          ┆ 63.259998  ┆ -0.22      │\n",
       "│ 2023090700 ┆ 101     ┆ false       ┆ 54527  ┆ … ┆ 236.05 ┆ 21          ┆ 63.259998  ┆ -0.22      │\n",
       "│ 2023090700 ┆ 101     ┆ false       ┆ 54527  ┆ … ┆ 240.6  ┆ 21          ┆ 63.259998  ┆ -0.22      │\n",
       "│ 2023090700 ┆ 101     ┆ false       ┆ 54527  ┆ … ┆ 244.25 ┆ 21          ┆ 63.259998  ┆ -0.22      │\n",
       "│ 2023090700 ┆ 101     ┆ false       ┆ 54527  ┆ … ┆ 244.25 ┆ 21          ┆ 63.259998  ┆ -0.22      │\n",
       "│ …          ┆ …       ┆ …           ┆ …      ┆ … ┆ …      ┆ …           ┆ …          ┆ …          │\n",
       "│ 2023090700 ┆ 101     ┆ true        ┆ 44930  ┆ … ┆ 98.27  ┆ 21          ┆ 63.259998  ┆ -0.22      │\n",
       "│ 2023090700 ┆ 101     ┆ true        ┆ 44930  ┆ … ┆ 102.82 ┆ 21          ┆ 63.259998  ┆ -0.22      │\n",
       "│ 2023090700 ┆ 101     ┆ true        ┆ 44930  ┆ … ┆ 104.15 ┆ 21          ┆ 63.259998  ┆ -0.22      │\n",
       "│ 2023090700 ┆ 101     ┆ true        ┆ 44930  ┆ … ┆ 101.98 ┆ 21          ┆ 63.259998  ┆ -0.22      │\n",
       "│ 2023090700 ┆ 101     ┆ true        ┆ 44930  ┆ … ┆ 106.8  ┆ 21          ┆ 63.259998  ┆ -0.22      │\n",
       "└────────────┴─────────┴─────────────┴────────┴───┴────────┴─────────────┴────────────┴────────────┘"
      ]
     },
     "execution_count": 3,
     "metadata": {},
     "output_type": "execute_result"
    }
   ],
   "source": [
    "before"
   ]
  },
  {
   "cell_type": "code",
   "execution_count": 4,
   "id": "2d82e37b",
   "metadata": {},
   "outputs": [
    {
     "data": {
      "text/html": [
       "<div><style>\n",
       ".dataframe > thead > tr,\n",
       ".dataframe > tbody > tr {\n",
       "  text-align: right;\n",
       "  white-space: pre-wrap;\n",
       "}\n",
       "</style>\n",
       "<small>shape: (63, 6)</small><table border=\"1\" class=\"dataframe\"><thead><tr><th>game_id</th><th>play_id</th><th>nfl_id</th><th>frame_id</th><th>x</th><th>y</th></tr><tr><td>i64</td><td>i64</td><td>i64</td><td>i64</td><td>f64</td><td>f64</td></tr></thead><tbody><tr><td>2023090700</td><td>101</td><td>46137</td><td>1</td><td>56.22</td><td>17.28</td></tr><tr><td>2023090700</td><td>101</td><td>46137</td><td>2</td><td>56.63</td><td>16.88</td></tr><tr><td>2023090700</td><td>101</td><td>46137</td><td>3</td><td>57.06</td><td>16.46</td></tr><tr><td>2023090700</td><td>101</td><td>46137</td><td>4</td><td>57.48</td><td>16.02</td></tr><tr><td>2023090700</td><td>101</td><td>46137</td><td>5</td><td>57.91</td><td>15.56</td></tr><tr><td>&hellip;</td><td>&hellip;</td><td>&hellip;</td><td>&hellip;</td><td>&hellip;</td><td>&hellip;</td></tr><tr><td>2023090700</td><td>101</td><td>44930</td><td>17</td><td>61.52</td><td>5.74</td></tr><tr><td>2023090700</td><td>101</td><td>44930</td><td>18</td><td>61.79</td><td>4.99</td></tr><tr><td>2023090700</td><td>101</td><td>44930</td><td>19</td><td>62.04</td><td>4.25</td></tr><tr><td>2023090700</td><td>101</td><td>44930</td><td>20</td><td>62.28</td><td>3.52</td></tr><tr><td>2023090700</td><td>101</td><td>44930</td><td>21</td><td>62.49</td><td>2.83</td></tr></tbody></table></div>"
      ],
      "text/plain": [
       "shape: (63, 6)\n",
       "┌────────────┬─────────┬────────┬──────────┬───────┬───────┐\n",
       "│ game_id    ┆ play_id ┆ nfl_id ┆ frame_id ┆ x     ┆ y     │\n",
       "│ ---        ┆ ---     ┆ ---    ┆ ---      ┆ ---   ┆ ---   │\n",
       "│ i64        ┆ i64     ┆ i64    ┆ i64      ┆ f64   ┆ f64   │\n",
       "╞════════════╪═════════╪════════╪══════════╪═══════╪═══════╡\n",
       "│ 2023090700 ┆ 101     ┆ 46137  ┆ 1        ┆ 56.22 ┆ 17.28 │\n",
       "│ 2023090700 ┆ 101     ┆ 46137  ┆ 2        ┆ 56.63 ┆ 16.88 │\n",
       "│ 2023090700 ┆ 101     ┆ 46137  ┆ 3        ┆ 57.06 ┆ 16.46 │\n",
       "│ 2023090700 ┆ 101     ┆ 46137  ┆ 4        ┆ 57.48 ┆ 16.02 │\n",
       "│ 2023090700 ┆ 101     ┆ 46137  ┆ 5        ┆ 57.91 ┆ 15.56 │\n",
       "│ …          ┆ …       ┆ …      ┆ …        ┆ …     ┆ …     │\n",
       "│ 2023090700 ┆ 101     ┆ 44930  ┆ 17       ┆ 61.52 ┆ 5.74  │\n",
       "│ 2023090700 ┆ 101     ┆ 44930  ┆ 18       ┆ 61.79 ┆ 4.99  │\n",
       "│ 2023090700 ┆ 101     ┆ 44930  ┆ 19       ┆ 62.04 ┆ 4.25  │\n",
       "│ 2023090700 ┆ 101     ┆ 44930  ┆ 20       ┆ 62.28 ┆ 3.52  │\n",
       "│ 2023090700 ┆ 101     ┆ 44930  ┆ 21       ┆ 62.49 ┆ 2.83  │\n",
       "└────────────┴─────────┴────────┴──────────┴───────┴───────┘"
      ]
     },
     "execution_count": 4,
     "metadata": {},
     "output_type": "execute_result"
    }
   ],
   "source": [
    "after"
   ]
  }
 ],
 "metadata": {
  "kernelspec": {
   "display_name": "bdb",
   "language": "python",
   "name": "python3"
  },
  "language_info": {
   "codemirror_mode": {
    "name": "ipython",
    "version": 3
   },
   "file_extension": ".py",
   "mimetype": "text/x-python",
   "name": "python",
   "nbconvert_exporter": "python",
   "pygments_lexer": "ipython3",
   "version": "3.13.7"
  }
 },
 "nbformat": 4,
 "nbformat_minor": 5
}
