{
 "cells": [
  {
   "cell_type": "code",
   "execution_count": null,
   "id": "9045859b",
   "metadata": {},
   "outputs": [
    {
     "data": {
      "text/html": [
       "<div><style>\n",
       ".dataframe > thead > tr,\n",
       ".dataframe > tbody > tr {\n",
       "  text-align: right;\n",
       "  white-space: pre-wrap;\n",
       "}\n",
       "</style>\n",
       "<small>shape: (4_880_579, 23)</small><table border=\"1\" class=\"dataframe\"><thead><tr><th>game_id</th><th>play_id</th><th>player_to_predict</th><th>nfl_id</th><th>frame_id</th><th>play_direction</th><th>absolute_yardline_number</th><th>player_name</th><th>player_height</th><th>player_weight</th><th>player_birth_date</th><th>player_position</th><th>player_side</th><th>player_role</th><th>x</th><th>y</th><th>s</th><th>a</th><th>dir</th><th>o</th><th>num_frames_output</th><th>ball_land_x</th><th>ball_land_y</th></tr><tr><td>i64</td><td>i64</td><td>bool</td><td>i64</td><td>i64</td><td>str</td><td>i64</td><td>str</td><td>str</td><td>i64</td><td>str</td><td>str</td><td>str</td><td>str</td><td>f64</td><td>f64</td><td>f64</td><td>f64</td><td>f64</td><td>f64</td><td>i64</td><td>f64</td><td>f64</td></tr></thead><tbody><tr><td>2023090700</td><td>101</td><td>false</td><td>54527</td><td>1</td><td>&quot;right&quot;</td><td>42</td><td>&quot;Bryan Cook&quot;</td><td>&quot;6-1&quot;</td><td>210</td><td>&quot;1999-09-07&quot;</td><td>&quot;FS&quot;</td><td>&quot;Defense&quot;</td><td>&quot;Defensive Coverage&quot;</td><td>52.33</td><td>36.94</td><td>0.09</td><td>0.39</td><td>322.4</td><td>238.24</td><td>21</td><td>63.259998</td><td>-0.22</td></tr><tr><td>2023090700</td><td>101</td><td>false</td><td>54527</td><td>2</td><td>&quot;right&quot;</td><td>42</td><td>&quot;Bryan Cook&quot;</td><td>&quot;6-1&quot;</td><td>210</td><td>&quot;1999-09-07&quot;</td><td>&quot;FS&quot;</td><td>&quot;Defense&quot;</td><td>&quot;Defensive Coverage&quot;</td><td>52.33</td><td>36.94</td><td>0.04</td><td>0.61</td><td>200.89</td><td>236.05</td><td>21</td><td>63.259998</td><td>-0.22</td></tr><tr><td>2023090700</td><td>101</td><td>false</td><td>54527</td><td>3</td><td>&quot;right&quot;</td><td>42</td><td>&quot;Bryan Cook&quot;</td><td>&quot;6-1&quot;</td><td>210</td><td>&quot;1999-09-07&quot;</td><td>&quot;FS&quot;</td><td>&quot;Defense&quot;</td><td>&quot;Defensive Coverage&quot;</td><td>52.33</td><td>36.93</td><td>0.12</td><td>0.73</td><td>147.55</td><td>240.6</td><td>21</td><td>63.259998</td><td>-0.22</td></tr><tr><td>2023090700</td><td>101</td><td>false</td><td>54527</td><td>4</td><td>&quot;right&quot;</td><td>42</td><td>&quot;Bryan Cook&quot;</td><td>&quot;6-1&quot;</td><td>210</td><td>&quot;1999-09-07&quot;</td><td>&quot;FS&quot;</td><td>&quot;Defense&quot;</td><td>&quot;Defensive Coverage&quot;</td><td>52.35</td><td>36.92</td><td>0.23</td><td>0.81</td><td>131.4</td><td>244.25</td><td>21</td><td>63.259998</td><td>-0.22</td></tr><tr><td>2023090700</td><td>101</td><td>false</td><td>54527</td><td>5</td><td>&quot;right&quot;</td><td>42</td><td>&quot;Bryan Cook&quot;</td><td>&quot;6-1&quot;</td><td>210</td><td>&quot;1999-09-07&quot;</td><td>&quot;FS&quot;</td><td>&quot;Defense&quot;</td><td>&quot;Defensive Coverage&quot;</td><td>52.37</td><td>36.9</td><td>0.35</td><td>0.82</td><td>123.26</td><td>244.25</td><td>21</td><td>63.259998</td><td>-0.22</td></tr><tr><td>&hellip;</td><td>&hellip;</td><td>&hellip;</td><td>&hellip;</td><td>&hellip;</td><td>&hellip;</td><td>&hellip;</td><td>&hellip;</td><td>&hellip;</td><td>&hellip;</td><td>&hellip;</td><td>&hellip;</td><td>&hellip;</td><td>&hellip;</td><td>&hellip;</td><td>&hellip;</td><td>&hellip;</td><td>&hellip;</td><td>&hellip;</td><td>&hellip;</td><td>&hellip;</td><td>&hellip;</td><td>&hellip;</td></tr><tr><td>2024010713</td><td>4018</td><td>true</td><td>52457</td><td>23</td><td>&quot;left&quot;</td><td>50</td><td>&quot;Chase Claypool&quot;</td><td>&quot;6-4&quot;</td><td>227</td><td>&quot;1998-07-07&quot;</td><td>&quot;WR&quot;</td><td>&quot;Offense&quot;</td><td>&quot;Targeted Receiver&quot;</td><td>41.61</td><td>17.57</td><td>7.81</td><td>0.58</td><td>267.16</td><td>296.92</td><td>18</td><td>32.139999</td><td>6.71</td></tr><tr><td>2024010713</td><td>4018</td><td>true</td><td>52457</td><td>24</td><td>&quot;left&quot;</td><td>50</td><td>&quot;Chase Claypool&quot;</td><td>&quot;6-4&quot;</td><td>227</td><td>&quot;1998-07-07&quot;</td><td>&quot;WR&quot;</td><td>&quot;Offense&quot;</td><td>&quot;Targeted Receiver&quot;</td><td>40.82</td><td>17.52</td><td>7.92</td><td>0.19</td><td>266.4</td><td>292.8</td><td>18</td><td>32.139999</td><td>6.71</td></tr><tr><td>2024010713</td><td>4018</td><td>true</td><td>52457</td><td>25</td><td>&quot;left&quot;</td><td>50</td><td>&quot;Chase Claypool&quot;</td><td>&quot;6-4&quot;</td><td>227</td><td>&quot;1998-07-07&quot;</td><td>&quot;WR&quot;</td><td>&quot;Offense&quot;</td><td>&quot;Targeted Receiver&quot;</td><td>40.03</td><td>17.46</td><td>7.92</td><td>0.69</td><td>265.49</td><td>290.54</td><td>18</td><td>32.139999</td><td>6.71</td></tr><tr><td>2024010713</td><td>4018</td><td>true</td><td>52457</td><td>26</td><td>&quot;left&quot;</td><td>50</td><td>&quot;Chase Claypool&quot;</td><td>&quot;6-4&quot;</td><td>227</td><td>&quot;1998-07-07&quot;</td><td>&quot;WR&quot;</td><td>&quot;Offense&quot;</td><td>&quot;Targeted Receiver&quot;</td><td>39.24</td><td>17.36</td><td>7.94</td><td>1.46</td><td>263.26</td><td>287.74</td><td>18</td><td>32.139999</td><td>6.71</td></tr><tr><td>2024010713</td><td>4018</td><td>true</td><td>52457</td><td>27</td><td>&quot;left&quot;</td><td>50</td><td>&quot;Chase Claypool&quot;</td><td>&quot;6-4&quot;</td><td>227</td><td>&quot;1998-07-07&quot;</td><td>&quot;WR&quot;</td><td>&quot;Offense&quot;</td><td>&quot;Targeted Receiver&quot;</td><td>38.45</td><td>17.24</td><td>7.89</td><td>2.06</td><td>261.04</td><td>285.48</td><td>18</td><td>32.139999</td><td>6.71</td></tr></tbody></table></div>"
      ],
      "text/plain": [
       "shape: (4_880_579, 23)\n",
       "┌────────────┬─────────┬─────────────┬────────┬───┬────────┬─────────────┬────────────┬────────────┐\n",
       "│ game_id    ┆ play_id ┆ player_to_p ┆ nfl_id ┆ … ┆ o      ┆ num_frames_ ┆ ball_land_ ┆ ball_land_ │\n",
       "│ ---        ┆ ---     ┆ redict      ┆ ---    ┆   ┆ ---    ┆ output      ┆ x          ┆ y          │\n",
       "│ i64        ┆ i64     ┆ ---         ┆ i64    ┆   ┆ f64    ┆ ---         ┆ ---        ┆ ---        │\n",
       "│            ┆         ┆ bool        ┆        ┆   ┆        ┆ i64         ┆ f64        ┆ f64        │\n",
       "╞════════════╪═════════╪═════════════╪════════╪═══╪════════╪═════════════╪════════════╪════════════╡\n",
       "│ 2023090700 ┆ 101     ┆ false       ┆ 54527  ┆ … ┆ 238.24 ┆ 21          ┆ 63.259998  ┆ -0.22      │\n",
       "│ 2023090700 ┆ 101     ┆ false       ┆ 54527  ┆ … ┆ 236.05 ┆ 21          ┆ 63.259998  ┆ -0.22      │\n",
       "│ 2023090700 ┆ 101     ┆ false       ┆ 54527  ┆ … ┆ 240.6  ┆ 21          ┆ 63.259998  ┆ -0.22      │\n",
       "│ 2023090700 ┆ 101     ┆ false       ┆ 54527  ┆ … ┆ 244.25 ┆ 21          ┆ 63.259998  ┆ -0.22      │\n",
       "│ 2023090700 ┆ 101     ┆ false       ┆ 54527  ┆ … ┆ 244.25 ┆ 21          ┆ 63.259998  ┆ -0.22      │\n",
       "│ …          ┆ …       ┆ …           ┆ …      ┆ … ┆ …      ┆ …           ┆ …          ┆ …          │\n",
       "│ 2024010713 ┆ 4018    ┆ true        ┆ 52457  ┆ … ┆ 296.92 ┆ 18          ┆ 32.139999  ┆ 6.71       │\n",
       "│ 2024010713 ┆ 4018    ┆ true        ┆ 52457  ┆ … ┆ 292.8  ┆ 18          ┆ 32.139999  ┆ 6.71       │\n",
       "│ 2024010713 ┆ 4018    ┆ true        ┆ 52457  ┆ … ┆ 290.54 ┆ 18          ┆ 32.139999  ┆ 6.71       │\n",
       "│ 2024010713 ┆ 4018    ┆ true        ┆ 52457  ┆ … ┆ 287.74 ┆ 18          ┆ 32.139999  ┆ 6.71       │\n",
       "│ 2024010713 ┆ 4018    ┆ true        ┆ 52457  ┆ … ┆ 285.48 ┆ 18          ┆ 32.139999  ┆ 6.71       │\n",
       "└────────────┴─────────┴─────────────┴────────┴───┴────────┴─────────────┴────────────┴────────────┘"
      ]
     },
     "execution_count": 6,
     "metadata": {},
     "output_type": "execute_result"
    }
   ],
   "source": [
    "import polars as pl\n",
    "from pathlib import Path\n",
    "\n",
    "data_path = Path(\"data\")\n",
    "\n",
    "train_data_in = data_path / \"train\" / \"input*\"\n",
    "train_data_out = data_path / \"train\" / \"output*\"\n",
    "\n",
    "data_in = pl.scan_csv(train_data_in)\n",
    "\n",
    "r = data_in.collect()\n",
    "\n",
    "r"
   ]
  }
 ],
 "metadata": {
  "kernelspec": {
   "display_name": "bdb",
   "language": "python",
   "name": "python3"
  },
  "language_info": {
   "codemirror_mode": {
    "name": "ipython",
    "version": 3
   },
   "file_extension": ".py",
   "mimetype": "text/x-python",
   "name": "python",
   "nbconvert_exporter": "python",
   "pygments_lexer": "ipython3",
   "version": "3.13.7"
  }
 },
 "nbformat": 4,
 "nbformat_minor": 5
}
